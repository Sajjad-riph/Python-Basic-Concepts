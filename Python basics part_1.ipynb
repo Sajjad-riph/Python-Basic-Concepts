{
 "cells": [
  {
   "cell_type": "markdown",
   "metadata": {},
   "source": [
    "## Python Basic Concepts\n",
    "* **Variable**\n",
    "    * An identifier that holds/stores any type of data that varies/changes with in a program/module.\n",
    "    * **Rules for eclaring an identifier are:** \n",
    "        * name must start from **English alphabet**(upper/lower) or **Underscore**(_)\n",
    "        * Number allowed but not at first character position.\n",
    "        * Special symbols **(:'\",<>/?|\\()!@#$%^&*~-+)**  are not allowed except **Underscore**\n",
    "        * Keywords are not allowed to use as a variable name\n",
    "        * Spaces are not allowed. For readability purpose use **Underscore or use camel case** like Product_name or ProductName\n",
    "\n",
    "* **Constant**\n",
    "    * An identifier that hold/store/represent contant values/ do not varies with in a program/module\n",
    "* **Value Assignment to a variable**\n",
    "    * Use single **equal (=)** symbol like **Product_ID=23032** \n",
    "    \n",
    "* **Escape Sequence** are specific characters followed by **backslash (\\)** symbol like `\\n` and `\\t` for new line and tab respectively\n",
    "* **Operators** are symbols represent some action.\n",
    "    * **Assignment operator (=)** that assign any value to a variable like a=20\n",
    "    * **Logical operators** ( >, <, ==, =<, =>)\n",
    "    * **Logical operators** `and`, `or`, `not` **OR** &, |, !\n",
    "    * **Arithmetic Operators** ( +, -, *,**(power), %(mod) / (results float value), // (resluts integer value) )\n",
    "\n"
   ]
  },
  {
   "cell_type": "markdown",
   "metadata": {},
   "source": [
    "## Litterals- The data itself\n",
    "   **Litterals are the data itself, whose values are determined by itself.** They are **Numbers** (denary&exponential), `None` and **Underscore(_)**.\n",
    "    \n",
    "   For example executing **23** will return 23 while executing **c** will return an **NameError**. So it's not a litteral\n",
    "    because it may have number like speed of ligh or a constant in integration or a color name. Due to there multiple possibilities it's not a litteral.\n",
    "    \n",
    " **Reference** [Link](https://www.netacad.com/courses/programming/pcap-programming-essentials-python)"
   ]
  },
  {
   "cell_type": "code",
   "execution_count": 1,
   "metadata": {},
   "outputs": [
    {
     "data": {
      "text/plain": [
       "123"
      ]
     },
     "execution_count": 1,
     "metadata": {},
     "output_type": "execute_result"
    }
   ],
   "source": [
    "123"
   ]
  },
  {
   "cell_type": "code",
   "execution_count": 2,
   "metadata": {},
   "outputs": [
    {
     "data": {
      "text/plain": [
       "123"
      ]
     },
     "execution_count": 2,
     "metadata": {},
     "output_type": "execute_result"
    }
   ],
   "source": [
    "1_2_3"
   ]
  },
  {
   "cell_type": "code",
   "execution_count": 3,
   "metadata": {},
   "outputs": [
    {
     "data": {
      "text/plain": [
       "4330.0"
      ]
     },
     "execution_count": 3,
     "metadata": {},
     "output_type": "execute_result"
    }
   ],
   "source": [
    "4.33e3"
   ]
  },
  {
   "cell_type": "code",
   "execution_count": 4,
   "metadata": {},
   "outputs": [
    {
     "ename": "NameError",
     "evalue": "name 'c' is not defined",
     "output_type": "error",
     "traceback": [
      "\u001b[1;31m---------------------------------------------------------------------------\u001b[0m",
      "\u001b[1;31mNameError\u001b[0m                                 Traceback (most recent call last)",
      "Cell \u001b[1;32mIn[4], line 1\u001b[0m\n\u001b[1;32m----> 1\u001b[0m \u001b[43mc\u001b[49m\n",
      "\u001b[1;31mNameError\u001b[0m: name 'c' is not defined"
     ]
    }
   ],
   "source": [
    "c"
   ]
  },
  {
   "cell_type": "code",
   "execution_count": null,
   "metadata": {},
   "outputs": [],
   "source": []
  },
  {
   "cell_type": "markdown",
   "metadata": {},
   "source": [
    "## Types of Numbers\n",
    "\n",
    "* **Intergers**  \n",
    "    * Any Positivie or Negative Whole number like **23** or **-23**\n",
    "* **Floating point**\n",
    "    * Any positive or negative number having **decimal point** like **2.88** or **-23.58**\n",
    "    * Number in **Scientific** or **exponential (`e`)** form like speed of light is **3E8** (3 x 10 to the power 8) \n",
    "* **Octal Numbers**\n",
    "    * Any positive integer number **less than 8** (0,1,2,3,4,5,6). It's represented by `0o` **(Zero-o)** following any integer number\n",
    "* **Hexadecimal Numbers**\n",
    "    * Include **0** to **9** and **A** to **F**, total **16** numbers. It's represented by `Xo` **(x-o)**.\n",
    "\n",
    "<table>\n",
    "<tr>\n",
    "    <th>Integer</th>\n",
    "    <th> Floating Point</th>\n",
    "    <th> Octal Numbers</th>\n",
    "    <th> Hexadecimal Numbers\n",
    "</tr>\n",
    "\n",
    "<tr>\n",
    "    <td>100,23,-10,1050</td>\n",
    "    <td>3.8,-6.5,5e2,2E5</td> \n",
    "    <td>0o23, 0o16</td>\n",
    "    <td> 0xA2, 0xAF, 0xFF</td>\n",
    "\n",
    "</tr>\n",
    " </table>\n",
    " \n",
    " **Reference** [Link](https://www.netacad.com/courses/programming/pcap-programming-essentials-python)"
   ]
  },
  {
   "cell_type": "code",
   "execution_count": 5,
   "metadata": {},
   "outputs": [
    {
     "data": {
      "text/plain": [
       "-34"
      ]
     },
     "execution_count": 5,
     "metadata": {},
     "output_type": "execute_result"
    }
   ],
   "source": [
    "-34"
   ]
  },
  {
   "cell_type": "code",
   "execution_count": 6,
   "metadata": {},
   "outputs": [
    {
     "data": {
      "text/plain": [
       "2.88"
      ]
     },
     "execution_count": 6,
     "metadata": {},
     "output_type": "execute_result"
    }
   ],
   "source": [
    "2.88"
   ]
  },
  {
   "cell_type": "code",
   "execution_count": 7,
   "metadata": {},
   "outputs": [
    {
     "data": {
      "text/plain": [
       "300000000.0"
      ]
     },
     "execution_count": 7,
     "metadata": {},
     "output_type": "execute_result"
    }
   ],
   "source": [
    "3e8"
   ]
  },
  {
   "cell_type": "code",
   "execution_count": 8,
   "metadata": {},
   "outputs": [
    {
     "data": {
      "text/plain": [
       "14"
      ]
     },
     "execution_count": 8,
     "metadata": {},
     "output_type": "execute_result"
    }
   ],
   "source": [
    "0o16"
   ]
  },
  {
   "cell_type": "code",
   "execution_count": 9,
   "metadata": {},
   "outputs": [
    {
     "data": {
      "text/plain": [
       "255"
      ]
     },
     "execution_count": 9,
     "metadata": {},
     "output_type": "execute_result"
    }
   ],
   "source": [
    "0xFF"
   ]
  },
  {
   "cell_type": "code",
   "execution_count": null,
   "metadata": {},
   "outputs": [],
   "source": []
  },
  {
   "cell_type": "markdown",
   "metadata": {},
   "source": [
    "## Python function\n",
    "* Python latest version is **3.11.3** that has total of **71** functions\n",
    "* Stable version **3.10.9** has **35** functions\n",
    "* Function types are **User Defined** or **Built in** \n",
    "<br>\n",
    "\n",
    "* **The output function(builtin) <code> print()</code>** \n",
    "    * this function is has keywrods `end` and `sep` which is used to end or separate the the string with **Pakistan** and **-** respectively\n",
    "    * Here `end` and `sep` may have:\n",
    "        * Special symbols\n",
    "        * Any string or character\n",
    "\n",
    "* **input() function()**\n",
    "   * it takes data from user at run time\n",
    "* **The `type()` function:**\n",
    "    * returns the type of any argument passed\n",
    "\n",
    "**More about Built in functions, visit** [Link](https://docs.python.org/3/library/functions.html)\n",
    "\n"
   ]
  },
  {
   "cell_type": "code",
   "execution_count": 10,
   "metadata": {},
   "outputs": [
    {
     "name": "stdout",
     "output_type": "stream",
     "text": [
      "Good evening, It's Hammad AliPakistan\n",
      "\n",
      "Lazy-dog??\n",
      "It's you\n",
      "No\n"
     ]
    }
   ],
   "source": [
    "print(\"Good evening, It's Hammad Ali\", end='Pakistan')\n",
    "print('\\n')\n",
    "print(\"Lazy\", \"dog??\", sep='-')\n",
    "print(\"It's you\", end=\"\\n\")\n",
    "print(\"No\")\n",
    "\n",
    "# print(sep='&', \"Box and tray\", \"Plat and spon\") # It will generate error as the argument \"sep\" is misplaced"
   ]
  },
  {
   "cell_type": "code",
   "execution_count": null,
   "metadata": {},
   "outputs": [],
   "source": []
  },
  {
   "cell_type": "markdown",
   "metadata": {},
   "source": [
    "## Variable Assignment\n",
    "* Single equal symbol **(=)** is used for assigning a any type of value/expression to variable\n",
    " "
   ]
  },
  {
   "cell_type": "code",
   "execution_count": 11,
   "metadata": {},
   "outputs": [
    {
     "name": "stdout",
     "output_type": "stream",
     "text": [
      "Salary is: 584.1\n"
     ]
    }
   ],
   "source": [
    "name= 'john'\n",
    "WorkHours= 45\n",
    "rate = 12.98\n",
    "salary= WorkHours * rate\n",
    "print(\"Salary is:\", salary)"
   ]
  },
  {
   "cell_type": "markdown",
   "metadata": {},
   "source": [
    "## Booleans\n",
    "\n",
    "* As discussed earlier, Booleans (with predefined `True` and `False` displays that are just the integers **1** and **0**). It also has a placeholder object called `None`.\n",
    "* its built in funciton is `bool()`"
   ]
  },
  {
   "cell_type": "code",
   "execution_count": 12,
   "metadata": {},
   "outputs": [
    {
     "data": {
      "text/plain": [
       "True"
      ]
     },
     "execution_count": 12,
     "metadata": {},
     "output_type": "execute_result"
    }
   ],
   "source": [
    "# Set object to be a boolean\n",
    "a = True\n",
    "a # show it's value"
   ]
  },
  {
   "cell_type": "code",
   "execution_count": 13,
   "metadata": {},
   "outputs": [
    {
     "data": {
      "text/plain": [
       "False"
      ]
     },
     "execution_count": 13,
     "metadata": {},
     "output_type": "execute_result"
    }
   ],
   "source": [
    "# Output is boolean\n",
    "1 > 2"
   ]
  },
  {
   "cell_type": "code",
   "execution_count": 14,
   "metadata": {},
   "outputs": [
    {
     "data": {
      "text/plain": [
       "bool"
      ]
     },
     "execution_count": 14,
     "metadata": {},
     "output_type": "execute_result"
    }
   ],
   "source": [
    "#the type of this variable is\n",
    "type(a)"
   ]
  },
  {
   "cell_type": "markdown",
   "metadata": {},
   "source": [
    "## Strings\n",
    "\n",
    "* String are text information or sequence of characters including English alphabets, numbers, special symbols and spaces.\n",
    "* String can be represented using **single (' ')** or **double (\" \")** qouts.\n",
    "* A string can be empty\n",
    "* built in function `str()`"
   ]
  },
  {
   "cell_type": "code",
   "execution_count": 15,
   "metadata": {},
   "outputs": [
    {
     "data": {
      "text/plain": [
       "'Hello! World'"
      ]
     },
     "execution_count": 15,
     "metadata": {},
     "output_type": "execute_result"
    }
   ],
   "source": [
    "\"Hello! World\""
   ]
  },
  {
   "cell_type": "code",
   "execution_count": 16,
   "metadata": {},
   "outputs": [
    {
     "data": {
      "text/plain": [
       "' '"
      ]
     },
     "execution_count": 16,
     "metadata": {},
     "output_type": "execute_result"
    }
   ],
   "source": [
    "#Epmty string\n",
    "' '"
   ]
  },
  {
   "cell_type": "code",
   "execution_count": 17,
   "metadata": {},
   "outputs": [
    {
     "ename": "SyntaxError",
     "evalue": "unterminated string literal (detected at line 1) (1887839508.py, line 1)",
     "output_type": "error",
     "traceback": [
      "\u001b[1;36m  Cell \u001b[1;32mIn[17], line 1\u001b[1;36m\u001b[0m\n\u001b[1;33m    'I'm leaving now'\u001b[0m\n\u001b[1;37m                    ^\u001b[0m\n\u001b[1;31mSyntaxError\u001b[0m\u001b[1;31m:\u001b[0m unterminated string literal (detected at line 1)\n"
     ]
    }
   ],
   "source": [
    "'I'm leaving now'"
   ]
  },
  {
   "cell_type": "markdown",
   "metadata": {},
   "source": [
    "The reason for the error above is because the single quote in <code>I'm</code> stopped the string. You can use combinations of double and single quotes to get the complete statement.\n",
    "\n",
    "\n",
    "* Use the combination of double ans single quotes \n",
    "        **OR**\n",
    "* Use escape sequence characters **backslash(\\)** symbol like 'I\\'m using phone'"
   ]
  },
  {
   "cell_type": "code",
   "execution_count": 18,
   "metadata": {},
   "outputs": [
    {
     "data": {
      "text/plain": [
       "\"I'm leaving now\""
      ]
     },
     "execution_count": 18,
     "metadata": {},
     "output_type": "execute_result"
    }
   ],
   "source": [
    "\"I'm leaving now\""
   ]
  },
  {
   "cell_type": "code",
   "execution_count": 19,
   "metadata": {},
   "outputs": [
    {
     "data": {
      "text/plain": [
       "\"I'm leaving now\""
      ]
     },
     "execution_count": 19,
     "metadata": {},
     "output_type": "execute_result"
    }
   ],
   "source": [
    "'I\\'m leaving now'"
   ]
  },
  {
   "cell_type": "markdown",
   "metadata": {},
   "source": [
    "### String Properties\n",
    "* **String is immutable** means once the string is defined its content can't be changed.\n",
    "* **Note:** it can be changed by using **assignment** operator\n",
    "* String can be **concatenated**\n",
    "* Multiply the string to genereate repeated contents "
   ]
  },
  {
   "cell_type": "code",
   "execution_count": 20,
   "metadata": {},
   "outputs": [
    {
     "data": {
      "text/plain": [
       "'The quick brown fox Jumps over the lazy dog'"
      ]
     },
     "execution_count": 20,
     "metadata": {},
     "output_type": "execute_result"
    }
   ],
   "source": [
    "string1= \"The quick brown fox\"\n",
    "string2= 'Jumps over the lazy dog'\n",
    "\n",
    "string1 +\" \" + string2"
   ]
  },
  {
   "cell_type": "code",
   "execution_count": 21,
   "metadata": {},
   "outputs": [
    {
     "data": {
      "text/plain": [
       "'The quick brown foxThe quick brown fox'"
      ]
     },
     "execution_count": 21,
     "metadata": {},
     "output_type": "execute_result"
    }
   ],
   "source": [
    "string1 * 2"
   ]
  },
  {
   "cell_type": "code",
   "execution_count": 22,
   "metadata": {},
   "outputs": [],
   "source": [
    "# change string1 contents using assignment operator\n",
    "string1= string1 + \" \"+ string2"
   ]
  },
  {
   "cell_type": "code",
   "execution_count": 23,
   "metadata": {},
   "outputs": [
    {
     "data": {
      "text/plain": [
       "'The quick brown fox Jumps over the lazy dog'"
      ]
     },
     "execution_count": 23,
     "metadata": {},
     "output_type": "execute_result"
    }
   ],
   "source": [
    "string1"
   ]
  },
  {
   "cell_type": "code",
   "execution_count": 24,
   "metadata": {},
   "outputs": [
    {
     "data": {
      "text/plain": [
       "'THE QUICK BROWN FOX JUMPS OVER THE LAZY DOG'"
      ]
     },
     "execution_count": 24,
     "metadata": {},
     "output_type": "execute_result"
    }
   ],
   "source": [
    "string1.upper()"
   ]
  },
  {
   "cell_type": "code",
   "execution_count": 25,
   "metadata": {},
   "outputs": [
    {
     "data": {
      "text/plain": [
       "1"
      ]
     },
     "execution_count": 25,
     "metadata": {},
     "output_type": "execute_result"
    }
   ],
   "source": [
    "string1.count(\"fox\")"
   ]
  },
  {
   "cell_type": "markdown",
   "metadata": {},
   "source": [
    "**For further string methods:**\n",
    "* press tab button on keyboard after typing dot operator(.)\n",
    "* dispy by dir() function"
   ]
  },
  {
   "cell_type": "code",
   "execution_count": 26,
   "metadata": {},
   "outputs": [],
   "source": [
    "# dir(string1)"
   ]
  },
  {
   "cell_type": "markdown",
   "metadata": {},
   "source": [
    "# Lists\n",
    "\n",
    "* A container or **ordered** sequence.\n",
    "* Support fast index access\n",
    "* CAn hold repeated/duplicate values\n",
    "* It's **mutable**. we can change any value by its index\n",
    "* list contents are enclosed in `[]`separated by **commas**\n",
    "* built in function for list is `list()`\n"
   ]
  },
  {
   "cell_type": "code",
   "execution_count": 27,
   "metadata": {},
   "outputs": [],
   "source": [
    "#declare empty list\n",
    "emp_list= []\n"
   ]
  },
  {
   "cell_type": "code",
   "execution_count": 28,
   "metadata": {},
   "outputs": [
    {
     "data": {
      "text/plain": [
       "[1, 2, 3, 4, 5, 6, 7, 8]"
      ]
     },
     "execution_count": 28,
     "metadata": {},
     "output_type": "execute_result"
    }
   ],
   "source": [
    "n_list=[1,2,3,4,5,6,7,8]\n",
    "n_list"
   ]
  },
  {
   "cell_type": "code",
   "execution_count": 29,
   "metadata": {},
   "outputs": [
    {
     "data": {
      "text/plain": [
       "[1, 2, 3, 4, 2, 6, 7, 8]"
      ]
     },
     "execution_count": 29,
     "metadata": {},
     "output_type": "execute_result"
    }
   ],
   "source": [
    "#to change the 5 by 2 at index 4\n",
    "n_list[4]=2\n",
    "n_list"
   ]
  },
  {
   "cell_type": "code",
   "execution_count": 30,
   "metadata": {},
   "outputs": [
    {
     "data": {
      "text/plain": [
       "[3, 5, 7, 9, 11, 13, 15]"
      ]
     },
     "execution_count": 30,
     "metadata": {},
     "output_type": "execute_result"
    }
   ],
   "source": [
    "odd=list([3,5,7,9,11,13,15])\n",
    "odd"
   ]
  },
  {
   "cell_type": "code",
   "execution_count": 31,
   "metadata": {},
   "outputs": [
    {
     "data": {
      "text/plain": [
       "[1, 2, 3, 4, 2, 6, 7, 8, 3, 5, 7, 9, 11, 13, 15]"
      ]
     },
     "execution_count": 31,
     "metadata": {},
     "output_type": "execute_result"
    }
   ],
   "source": [
    "n_list+ odd# cocatenate both lists"
   ]
  },
  {
   "cell_type": "code",
   "execution_count": 32,
   "metadata": {},
   "outputs": [
    {
     "data": {
      "text/plain": [
       "list"
      ]
     },
     "execution_count": 32,
     "metadata": {},
     "output_type": "execute_result"
    }
   ],
   "source": [
    "type(n_list)"
   ]
  },
  {
   "cell_type": "markdown",
   "metadata": {},
   "source": [
    "### List Indexing And Slicing\n",
    "* **indexing** \n",
    "    * Means to access specific elements of list in a sequence\n",
    "    * Indexes are used in brackets `[]`\n",
    "    * list index start from **0** \n",
    "* **Slicing** \n",
    "    * Means to creat sub list using indexes\n",
    "    * `:` are used"
   ]
  },
  {
   "cell_type": "code",
   "execution_count": 33,
   "metadata": {},
   "outputs": [
    {
     "data": {
      "text/plain": [
       "[1, 2, 3, 4]"
      ]
     },
     "execution_count": 33,
     "metadata": {},
     "output_type": "execute_result"
    }
   ],
   "source": [
    "#Taking first 4 elemenet of list\n",
    "# the last bound/end index is ignored. means 4 is exclusive\n",
    "n_list[0:4]"
   ]
  },
  {
   "cell_type": "code",
   "execution_count": 34,
   "metadata": {},
   "outputs": [
    {
     "data": {
      "text/plain": [
       "8"
      ]
     },
     "execution_count": 34,
     "metadata": {},
     "output_type": "execute_result"
    }
   ],
   "source": [
    "# taking the last element\n",
    "n_list[-1]"
   ]
  },
  {
   "cell_type": "markdown",
   "metadata": {},
   "source": [
    "### List methods"
   ]
  },
  {
   "cell_type": "code",
   "execution_count": 35,
   "metadata": {},
   "outputs": [
    {
     "name": "stdout",
     "output_type": "stream",
     "text": [
      "[3, 'Score']\n"
     ]
    }
   ],
   "source": [
    "el=list()# empty list\n",
    "el.append(3)\n",
    "el.append(\"Score\")\n",
    "print(el)"
   ]
  },
  {
   "cell_type": "code",
   "execution_count": 36,
   "metadata": {},
   "outputs": [
    {
     "name": "stdout",
     "output_type": "stream",
     "text": [
      "[1, 2, 3, 4, 2, 6, 7, 8]\n",
      "6 exist = 1 times\n"
     ]
    }
   ],
   "source": [
    "#To copy\n",
    "list_copy= n_list.copy()\n",
    "print(list_copy)\n",
    "\n",
    "print(\"6 exist =\", list_copy.count(6), \"times\")\n"
   ]
  },
  {
   "cell_type": "code",
   "execution_count": 37,
   "metadata": {},
   "outputs": [
    {
     "data": {
      "text/plain": [
       "[1, 2, 3, 4, 2, 6, 7, 8, 3, 'Score']"
      ]
     },
     "execution_count": 37,
     "metadata": {},
     "output_type": "execute_result"
    }
   ],
   "source": [
    "list_copy.extend(el)\n",
    "list_copy"
   ]
  },
  {
   "cell_type": "code",
   "execution_count": 38,
   "metadata": {},
   "outputs": [
    {
     "data": {
      "text/plain": [
       "3"
      ]
     },
     "execution_count": 38,
     "metadata": {},
     "output_type": "execute_result"
    }
   ],
   "source": [
    "\n",
    "list_copy.index(4)# index of 4 "
   ]
  },
  {
   "cell_type": "code",
   "execution_count": 39,
   "metadata": {},
   "outputs": [],
   "source": [
    "#uncomment the following to view the whole list of methods\n",
    "# dir(list_copy)"
   ]
  },
  {
   "cell_type": "markdown",
   "metadata": {},
   "source": [
    "## Dictionary\n",
    "* Holds elements in a **key-value** association ofrm\n",
    "* hold element by key not by index\n",
    "* **key** and **value** is separated by colun(`:`)\n",
    "* Enclosed in `{}`\n",
    "* built in function is `dict()`\n",
    "* General form: {'key1':'value1','key2':'value2'}"
   ]
  },
  {
   "cell_type": "code",
   "execution_count": 40,
   "metadata": {},
   "outputs": [
    {
     "data": {
      "text/plain": [
       "{}"
      ]
     },
     "execution_count": 40,
     "metadata": {},
     "output_type": "execute_result"
    }
   ],
   "source": [
    "#empty dictionary\n",
    "temp={}\n",
    "temp"
   ]
  },
  {
   "cell_type": "code",
   "execution_count": 41,
   "metadata": {},
   "outputs": [
    {
     "data": {
      "text/plain": [
       "{'a': 23}"
      ]
     },
     "execution_count": 41,
     "metadata": {},
     "output_type": "execute_result"
    }
   ],
   "source": [
    "# element to a dictionary\n",
    "temp['a']=23\n",
    "temp"
   ]
  },
  {
   "cell_type": "code",
   "execution_count": 42,
   "metadata": {},
   "outputs": [
    {
     "data": {
      "text/plain": [
       "{'a': 45}"
      ]
     },
     "execution_count": 42,
     "metadata": {},
     "output_type": "execute_result"
    }
   ],
   "source": [
    "#changing the value of key(a)\n",
    "temp['a']=45\n",
    "temp"
   ]
  },
  {
   "cell_type": "code",
   "execution_count": 43,
   "metadata": {},
   "outputs": [
    {
     "data": {
      "text/plain": [
       "{'john': 32, 'smit': 60, 'saad': 19}"
      ]
     },
     "execution_count": 43,
     "metadata": {},
     "output_type": "execute_result"
    }
   ],
   "source": [
    "#Player-score dictionary\n",
    "player_score={'john':32, 'smit':60, 'saad':19}\n",
    "player_score"
   ]
  },
  {
   "cell_type": "code",
   "execution_count": 44,
   "metadata": {},
   "outputs": [
    {
     "data": {
      "text/plain": [
       "32"
      ]
     },
     "execution_count": 44,
     "metadata": {},
     "output_type": "execute_result"
    }
   ],
   "source": [
    "# accessing the john's score\n",
    "player_score[\"john\"]"
   ]
  },
  {
   "cell_type": "code",
   "execution_count": 45,
   "metadata": {},
   "outputs": [],
   "source": [
    "# the values may be a list like:\n",
    "#items purchased in a week\n",
    "item_dictonary= {\"Monday\":['sugar', 'bread', 'tea packs'], \"Tuesday\":['bread','eggs'], \"Wednesday\":['bread', 'jam','honey']}"
   ]
  },
  {
   "cell_type": "code",
   "execution_count": 46,
   "metadata": {},
   "outputs": [
    {
     "data": {
      "text/plain": [
       "['sugar', 'bread', 'tea packs']"
      ]
     },
     "execution_count": 46,
     "metadata": {},
     "output_type": "execute_result"
    }
   ],
   "source": [
    "# Items purchased on Monday\n",
    "item_dictonary[\"Monday\"]"
   ]
  },
  {
   "cell_type": "code",
   "execution_count": 47,
   "metadata": {},
   "outputs": [],
   "source": [
    "#NESTING Dictionary: Dictionary may hold another dictionary\n",
    "nest_dictonary={\"cricket\":{'john':90, 'smit':10}, 'football':{'messay':4, 'dark':0}}"
   ]
  },
  {
   "cell_type": "code",
   "execution_count": 48,
   "metadata": {},
   "outputs": [
    {
     "data": {
      "text/plain": [
       "{'john': 90, 'smit': 10}"
      ]
     },
     "execution_count": 48,
     "metadata": {},
     "output_type": "execute_result"
    }
   ],
   "source": [
    "# access the cricket team\n",
    "nest_dictonary['cricket']"
   ]
  },
  {
   "cell_type": "code",
   "execution_count": 49,
   "metadata": {},
   "outputs": [
    {
     "data": {
      "text/plain": [
       "10"
      ]
     },
     "execution_count": 49,
     "metadata": {},
     "output_type": "execute_result"
    }
   ],
   "source": [
    "# to access the second value(smit) of first key(cricket)\n",
    "nest_dictonary[\"cricket\"]['smit']"
   ]
  },
  {
   "cell_type": "code",
   "execution_count": 50,
   "metadata": {},
   "outputs": [
    {
     "data": {
      "text/plain": [
       "dict_values([{'john': 90, 'smit': 10}, {'messay': 4, 'dark': 0}])"
      ]
     },
     "execution_count": 50,
     "metadata": {},
     "output_type": "execute_result"
    }
   ],
   "source": [
    "nest_dictonary.values()#to access the values of dictionary"
   ]
  },
  {
   "cell_type": "code",
   "execution_count": 51,
   "metadata": {},
   "outputs": [
    {
     "data": {
      "text/plain": [
       "dict_keys(['cricket', 'football'])"
      ]
     },
     "execution_count": 51,
     "metadata": {},
     "output_type": "execute_result"
    }
   ],
   "source": [
    "nest_dictonary.keys()# keys"
   ]
  },
  {
   "cell_type": "code",
   "execution_count": 52,
   "metadata": {},
   "outputs": [],
   "source": [
    "# dir(nest_dictonary)"
   ]
  },
  {
   "cell_type": "markdown",
   "metadata": {},
   "source": [
    "## Sets\n",
    "* Unorder collection of **Unique** elements\n",
    "* Use `{}` symbols\n",
    "* it is mutable\n",
    "* built in funciton is `set()`"
   ]
  },
  {
   "cell_type": "code",
   "execution_count": 53,
   "metadata": {},
   "outputs": [
    {
     "data": {
      "text/plain": [
       "set"
      ]
     },
     "execution_count": 53,
     "metadata": {},
     "output_type": "execute_result"
    }
   ],
   "source": [
    "a=set()# empty set \n",
    "type(a)"
   ]
  },
  {
   "cell_type": "code",
   "execution_count": 54,
   "metadata": {},
   "outputs": [
    {
     "data": {
      "text/plain": [
       "{'apple', 'banana', 'cherry'}"
      ]
     },
     "execution_count": 54,
     "metadata": {},
     "output_type": "execute_result"
    }
   ],
   "source": [
    "st = {\"apple\", \"banana\", \"cherry\"}\n",
    "st"
   ]
  },
  {
   "cell_type": "code",
   "execution_count": 55,
   "metadata": {},
   "outputs": [
    {
     "data": {
      "text/plain": [
       "{'apple', 'banana', 'cherry', 'mangos'}"
      ]
     },
     "execution_count": 55,
     "metadata": {},
     "output_type": "execute_result"
    }
   ],
   "source": [
    "st.add(\"mangos\")\n",
    "st"
   ]
  },
  {
   "cell_type": "code",
   "execution_count": 56,
   "metadata": {},
   "outputs": [
    {
     "data": {
      "text/plain": [
       "{'banana', 'cherry', 'mangos'}"
      ]
     },
     "execution_count": 56,
     "metadata": {},
     "output_type": "execute_result"
    }
   ],
   "source": [
    "st.pop()\n",
    "st"
   ]
  },
  {
   "cell_type": "code",
   "execution_count": 57,
   "metadata": {},
   "outputs": [
    {
     "data": {
      "text/plain": [
       "{'banana', 'cherry'}"
      ]
     },
     "execution_count": 57,
     "metadata": {},
     "output_type": "execute_result"
    }
   ],
   "source": [
    "st.remove('mangos')\n",
    "st"
   ]
  },
  {
   "cell_type": "code",
   "execution_count": 58,
   "metadata": {},
   "outputs": [],
   "source": [
    "# dir(st)"
   ]
  },
  {
   "cell_type": "markdown",
   "metadata": {},
   "source": [
    "## Tuples\n",
    "* tuples are immutable(can not change its values)\n",
    "* tuple elements are separated by `,` and enclosed in `()`\n",
    "\n",
    "* **When?**: Use tuple when the elemenets needed to be unchanged\n",
    "* bulit in function is `tuple()`"
   ]
  },
  {
   "cell_type": "code",
   "execution_count": 59,
   "metadata": {},
   "outputs": [],
   "source": [
    "players=(\"John\", \"Smit\",\"Dark\")"
   ]
  },
  {
   "cell_type": "code",
   "execution_count": 60,
   "metadata": {},
   "outputs": [
    {
     "data": {
      "text/plain": [
       "('John', 'Smit', 'Dark')"
      ]
     },
     "execution_count": 60,
     "metadata": {},
     "output_type": "execute_result"
    }
   ],
   "source": [
    "players"
   ]
  },
  {
   "cell_type": "code",
   "execution_count": 61,
   "metadata": {},
   "outputs": [
    {
     "data": {
      "text/plain": [
       "'Dark'"
      ]
     },
     "execution_count": 61,
     "metadata": {},
     "output_type": "execute_result"
    }
   ],
   "source": [
    "# access the Dark\n",
    "players[2]"
   ]
  },
  {
   "cell_type": "code",
   "execution_count": 62,
   "metadata": {},
   "outputs": [
    {
     "data": {
      "text/plain": [
       "tuple"
      ]
     },
     "execution_count": 62,
     "metadata": {},
     "output_type": "execute_result"
    }
   ],
   "source": [
    "type(players)"
   ]
  },
  {
   "cell_type": "code",
   "execution_count": 63,
   "metadata": {},
   "outputs": [],
   "source": [
    "wdays=set(['Wed', 'Sun', 'Fri', 'Tue', 'Mon', 'Thu', 'Sat'])"
   ]
  },
  {
   "cell_type": "code",
   "execution_count": 64,
   "metadata": {},
   "outputs": [
    {
     "data": {
      "text/plain": [
       "set"
      ]
     },
     "execution_count": 64,
     "metadata": {},
     "output_type": "execute_result"
    }
   ],
   "source": [
    "type(wdays)"
   ]
  },
  {
   "cell_type": "code",
   "execution_count": 65,
   "metadata": {},
   "outputs": [
    {
     "data": {
      "text/plain": [
       "{'Dark', 'Fri', 'John', 'Mon', 'Sat', 'Smit', 'Sun', 'Thu', 'Tue', 'Wed'}"
      ]
     },
     "execution_count": 65,
     "metadata": {},
     "output_type": "execute_result"
    }
   ],
   "source": [
    "wdays.union(players)# take all elements from both sets and return in an order form"
   ]
  },
  {
   "cell_type": "code",
   "execution_count": 66,
   "metadata": {},
   "outputs": [],
   "source": [
    "# dir(wdays)"
   ]
  },
  {
   "cell_type": "markdown",
   "metadata": {},
   "source": [
    "## Summary of built in data types\n",
    "\n",
    "* **int()** (for integer)\n",
    "* **float()** (for float type\n",
    "* **str()** (for string)\n",
    "* **list()** (for list)\n",
    "* **tuple()** (for creating tuple)\n",
    "* **dict()** (for dictionary)\n",
    "* **set()**   (for declaring set type)\n",
    "* **bool()** (for Boolean True/False)"
   ]
  },
  {
   "cell_type": "markdown",
   "metadata": {},
   "source": [
    "# Tips\n",
    "* **`help`** function is used to show the documentation of any function in python. \n",
    "* Alternative method is using question mark **?** at the end of function. this will disply results in a pop up\n",
    "* To access the source code use double question marks **??**. it will only disply the source code of the funcitons that are defined in python.Other functions defined in c will not be displayed"
   ]
  },
  {
   "cell_type": "code",
   "execution_count": 67,
   "metadata": {},
   "outputs": [],
   "source": [
    "n_list??"
   ]
  },
  {
   "cell_type": "code",
   "execution_count": 68,
   "metadata": {},
   "outputs": [],
   "source": [
    "from platform import python_version\n",
    "python_version()\n",
    "import keyword"
   ]
  },
  {
   "cell_type": "code",
   "execution_count": 69,
   "metadata": {},
   "outputs": [],
   "source": [
    "keyword??"
   ]
  },
  {
   "cell_type": "code",
   "execution_count": null,
   "metadata": {},
   "outputs": [],
   "source": []
  },
  {
   "cell_type": "code",
   "execution_count": null,
   "metadata": {},
   "outputs": [],
   "source": []
  }
 ],
 "metadata": {
  "kernelspec": {
   "display_name": "Python 3 (ipykernel)",
   "language": "python",
   "name": "python3"
  },
  "language_info": {
   "codemirror_mode": {
    "name": "ipython",
    "version": 3
   },
   "file_extension": ".py",
   "mimetype": "text/x-python",
   "name": "python",
   "nbconvert_exporter": "python",
   "pygments_lexer": "ipython3",
   "version": "3.10.9"
  }
 },
 "nbformat": 4,
 "nbformat_minor": 2
}
